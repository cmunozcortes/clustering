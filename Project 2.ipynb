{
 "cells": [
  {
   "cell_type": "markdown",
   "metadata": {},
   "source": [
    "### Question 1"
   ]
  },
  {
   "cell_type": "code",
   "execution_count": 11,
   "metadata": {},
   "outputs": [],
   "source": [
    "from sklearn.datasets import fetch_20newsgroups\n",
    "\n",
    "import numpy as np\n",
    "np.random.seed(42)\n",
    "import random\n",
    "random.seed(42)\n",
    "\n",
    "categories = ['comp.sys.ibm.pc.hardware', 'comp.graphics',\n",
    "'comp.sys.mac.hardware', 'comp.os.ms-windows.misc',\n",
    "'rec.autos', 'rec.motorcycles',\n",
    "'rec.sport.baseball', 'rec.sport.hockey']\n",
    "\n",
    "dataset = fetch_20newsgroups(subset='all', categories=categories, shuffle=True, random_state=42)\n",
    "labels_actual = dataset.target"
   ]
  },
  {
   "cell_type": "code",
   "execution_count": 4,
   "metadata": {},
   "outputs": [
    {
     "name": "stdout",
     "output_type": "stream",
     "text": [
      "\n",
      "Shape of TF-IDF matrix:\n",
      "Data TF-IDF Shape:  (7882, 27768)\n"
     ]
    }
   ],
   "source": [
    "from sklearn.feature_extraction.text import TfidfTransformer\n",
    "tfidf_transformer = TfidfTransformer()\n",
    "\n",
    "from nltk.corpus import stopwords\n",
    "\n",
    "from sklearn.feature_extraction.text import CountVectorizer\n",
    "countVect = CountVectorizer(min_df=3,stop_words='english')\n",
    "\n",
    "dataCount = countVect.fit_transform(dataset.data)        # document-term matrix\n",
    "data_tfidf = tfidf_transformer.fit_transform(dataCount)  # tf-idf matrix\n",
    "\n",
    "print('\\nShape of TF-IDF matrix:')\n",
    "print('Data TF-IDF Shape: ',data_tfidf.shape)"
   ]
  },
  {
   "cell_type": "markdown",
   "metadata": {},
   "source": [
    "### Question 2"
   ]
  },
  {
   "cell_type": "markdown",
   "metadata": {},
   "source": [
    "https://scikit-learn.org/stable/modules/generated/sklearn.cluster.KMeans.html\n",
    "\n",
    "https://scikit-learn.org/0.18/auto_examples/text/document_clustering.html"
   ]
  },
  {
   "cell_type": "code",
   "execution_count": 10,
   "metadata": {},
   "outputs": [
    {
     "name": "stdout",
     "output_type": "stream",
     "text": [
      "Clustering sparse data with KMeans(algorithm='auto', copy_x=True, init='k-means++', max_iter=1000,\n",
      "    n_clusters=2, n_init=30, n_jobs=None, precompute_distances='auto',\n",
      "    random_state=0, tol=0.0001, verbose=0)\n"
     ]
    }
   ],
   "source": [
    "from sklearn.cluster import KMeans\n",
    "\n",
    "# apply K-means clustering on the TF-IDF data\n",
    "kmeans = KMeans(n_clusters=2, random_state=0, max_iter=1000, n_init=30).fit(data_tfidf)\n",
    "\n",
    "print(\"Clustering sparse data with %s\" % kmeans)"
   ]
  },
  {
   "cell_type": "code",
   "execution_count": 16,
   "metadata": {},
   "outputs": [
    {
     "name": "stdout",
     "output_type": "stream",
     "text": [
      "Kmeans Clustering Contingency Matrix: TF-IDF Matrix\n"
     ]
    },
    {
     "data": {
      "text/plain": [
       "array([[  1, 972],\n",
       "       [  0, 985],\n",
       "       [  3, 979],\n",
       "       [  0, 963],\n",
       "       [  1, 989],\n",
       "       [  1, 995],\n",
       "       [794, 200],\n",
       "       [922,  77]])"
      ]
     },
     "execution_count": 16,
     "metadata": {},
     "output_type": "execute_result"
    }
   ],
   "source": [
    "from sklearn.metrics.cluster import contingency_matrix\n",
    "\n",
    "print(\"Kmeans Clustering Contingency Matrix: TF-IDF Matrix\")\n",
    "contingency_matrix(labels_actual, kmeans.labels_)"
   ]
  },
  {
   "cell_type": "markdown",
   "metadata": {},
   "source": [
    "### Question 3"
   ]
  },
  {
   "cell_type": "code",
   "execution_count": 12,
   "metadata": {},
   "outputs": [
    {
     "name": "stdout",
     "output_type": "stream",
     "text": [
      "Kmeans Clustering Measures: TF-IDF Matrix\n",
      "Homogeneity: 0.203\n",
      "Completeness: 0.803\n",
      "V-measure: 0.324\n",
      "Adjusted Rand-Index: 0.113\n",
      "Adjusted Mutual Info: 0.203\n"
     ]
    },
    {
     "name": "stderr",
     "output_type": "stream",
     "text": [
      "C:\\Users\\Administrator\\Anaconda3\\lib\\site-packages\\sklearn\\metrics\\cluster\\supervised.py:732: FutureWarning: The behavior of AMI will change in version 0.22. To match the behavior of 'v_measure_score', AMI will use average_method='arithmetic' by default.\n",
      "  FutureWarning)\n"
     ]
    }
   ],
   "source": [
    "from sklearn.metrics import homogeneity_score\n",
    "from sklearn.metrics import completeness_score\n",
    "from sklearn.metrics import v_measure_score\n",
    "from sklearn.metrics import adjusted_rand_score\n",
    "from sklearn.metrics import adjusted_mutual_info_score\n",
    "\n",
    "def evalCluster(labels_true, labels_pred):\n",
    "    print(\"Homogeneity: %0.3f\" % homogeneity_score(labels_true, labels_pred))\n",
    "    print(\"Completeness: %0.3f\" % completeness_score(labels_true, labels_pred))\n",
    "    print(\"V-measure: %0.3f\" % v_measure_score(labels_true, labels_pred))\n",
    "    print(\"Adjusted Rand-Index: %0.3f\" % adjusted_rand_score(labels_true, labels_pred))\n",
    "    print(\"Adjusted Mutual Info: %0.3f\" % adjusted_mutual_info_score(labels_true, labels_pred))\n",
    "\n",
    "print(\"Kmeans Clustering Measures: TF-IDF Matrix\")    \n",
    "evalCluster(labels_actual, kmeans.labels_)"
   ]
  },
  {
   "cell_type": "markdown",
   "metadata": {},
   "source": [
    "### Question 4"
   ]
  },
  {
   "cell_type": "markdown",
   "metadata": {},
   "source": [
    "https://scikit-learn.org/stable/modules/generated/sklearn.decomposition.TruncatedSVD.html"
   ]
  },
  {
   "cell_type": "code",
   "execution_count": 45,
   "metadata": {},
   "outputs": [],
   "source": [
    "from sklearn.decomposition import TruncatedSVD\n",
    "svd = TruncatedSVD(n_components=1000)   # shortcut for obtaining r=1 to 1000\n",
    "                                        \n",
    "dataLSIReduced = svd.fit(data_tfidf)\n",
    "percentVar = svd.explained_variance_ratio_     # array of % variance for r=1 to 1000"
   ]
  },
  {
   "cell_type": "code",
   "execution_count": 46,
   "metadata": {
    "scrolled": true
   },
   "outputs": [
    {
     "data": {
      "image/png": "[encoded data removed]",
      "text/plain": [
       "<Figure size 432x288 with 1 Axes>"
      ]
     },
     "metadata": {
      "needs_background": "light"
     },
     "output_type": "display_data"
    }
   ],
   "source": [
    "from matplotlib import pyplot as plt\n",
    "import numpy as np\n",
    "%matplotlib inline\n",
    "\n",
    "# plot of the percent of variance the top r principle components can retain vs. r, for r = 1 to 1000\n",
    "plt.plot(percentVar)\n",
    "plt.xlabel('r')\n",
    "plt.ylabel('% variance retained')\n",
    "plt.show()"
   ]
  },
  {
   "cell_type": "code",
   "execution_count": null,
   "metadata": {},
   "outputs": [],
   "source": []
  }
 ],
 "metadata": {
  "kernelspec": {
   "display_name": "Python 3",
   "language": "python",
   "name": "python3"
  },
  "language_info": {
   "codemirror_mode": {
    "name": "ipython",
    "version": 3
   },
   "file_extension": ".py",
   "mimetype": "text/x-python",
   "name": "python",
   "nbconvert_exporter": "python",
   "pygments_lexer": "ipython3",
   "version": "3.7.3"
  }
 },
 "nbformat": 4,
 "nbformat_minor": 2
}
